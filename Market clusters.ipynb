{
 "cells": [
  {
   "cell_type": "markdown",
   "metadata": {},
   "source": [
    "<h3> Explanation </h3>"
   ]
  },
  {
   "cell_type": "markdown",
   "metadata": {},
   "source": [
    "*By saying \"distict item\", I mean that I do not take into account the number of such goods in one order\n",
    "<h4> Prices and Counters </h4>\n",
    "<ul>\n",
    "    <li><i>successful_orders_count</i> - number of total delivered orderes that were performed by the client </li>\n",
    "    <li><i>avg_unique_items_per_order</i> - number of distict items that are purchased on average in one order </li>\n",
    "    <li><i>all_unique_items_purchased</i> - total number of distict items that has ever been purchased across all orders made </li>\n",
    "    <li><i>avg_items_per_order</i> - number of items purchased on average in one order </li>\n",
    "    <li><i>all_items_purchased</i> - total number of items ever purchased by the client across all orders made </li>\n",
    "    <li><i>avg_item_price</i> - average price of one good in one order </li>\n",
    "    <li><i>avg_unique_items_price</i> - average price of one distict good in one order </li>\n",
    "    <li><i>all_items_price</i> - total price of all items ever purchased by the client </li>\n",
    "    <li><i>avg_summed_cost_of_items_per_order</i> - average price of all items summed in one order </li>\n",
    "    <li><i>total_shipping_charges</i> - total cost of all shipping costs ever charged </li>\n",
    "    <li><i>avg_shipping_charges</i> - average cost of shipping charges per order </li>\n",
    "    <li><i>total_service_charges</i> - total cost of all service costs ever charged </li>\n",
    "    <li><i>avg_service_charges</i> - total cost of service charges per order </li>\n",
    "    <li><i>total_payment</i> - total value paid by the client </li>\n",
    "    <li><i>avg_payment</i> - average value paid by the client per order </li>\n",
    "    <li><i>total_profit</i> - total profit for one client </li>\n",
    "    <li><i>avg_order_profit</i> - average profit per order </li>\n",
    "    <li><i>avg_item_profit</i> - average profit per item </li><br>\n",
    "</ul>\n",
    "<h4>Share of items in a certain category</h4>\n",
    "<ul>\n",
    "    <li><i>related products</i></li>\n",
    "    <li><i>baby food</i></li>\n",
    "    <li><i>office goods</i></li>\n",
    "    <li><i>books, disks</i></li>\n",
    "    <li><i>breastfeeding products</i></li>\n",
    "    <li><i>textile, knitwear</i></li>\n",
    "    <li><i>footwear</i></li>\n",
    "    <li><i>oversized goods</i></li>\n",
    "    <li><i>toys</i></li>\n",
    "    <li><i>women things</i></li>\n",
    "    <li><i>goods for pets</i></li>\n",
    "    <li><i>cosmetics and hygiene</i></li>\n",
    "    <li><i>diapers</i></li>\n",
    "</ul>\n",
    "<h4>Share of different shipping methods used</h4>\n",
    "<ul>\n",
    "    <li><i>pickup</i></li>\n",
    "    <li><i>express delivery</i></li>\n",
    "    <li><i>transport company</i></li>\n",
    "    <li><i>DPD</i></li>\n",
    "    <li><i>pick point</i></li>\n",
    "    <li><i>store</i></li>\n",
    "</ul>\n",
    "<h4>Share of item size category</h4>\n",
    "<ul>\n",
    "    <li><i>Oversized</i></li>\n",
    "    <li><i>Compact</i></li>\n",
    "</ul>\n",
    "<h4>Share of payment method used</h4>\n",
    "<ul>\n",
    "    <li><i>cash payment</i></li>\n",
    "    <li><i>cashless payment</i></li>\n",
    "</ul>\n",
    "<h4>Canceled and delivered orders</h4>\n",
    "<ul>\n",
    "    <li><i>number_canceled</i> - total number of canceled orders per client</li>\n",
    "    <li><i>avg_number_canceled</i> - average number of canceled orders per client</li>\n",
    "    <li><i>total_delivered</i> - total number of delivered orders per client </li>\n",
    "    <li><i>avg_delivered</i> - average number of delivered orders per client </li>\n",
    "</ul>"
   ]
  },
  {
   "cell_type": "markdown",
   "metadata": {},
   "source": [
    "<ul>\n",
    "    <li><i>successful_orders_count</i> - Общее количество заказов </li>\n",
    "    <li><i>avg_unique_items_per_order</i> - Среднее количество уникальных товаров в заказе </li>\n",
    "    <li><i>all_unique_items_purchased</i> - Общее количество уникальный товаров в среднем в заказе </li>\n",
    "    <li><i>avg_items_per_order</i> - Среднее количество товаров в заказе </li>\n",
    "    <li><i>all_items_purchased</i> - Среднее количество товаров во всех заказах </li>\n",
    "    <li><i>avg_item_price</i> - Средняя цена товара </li>\n",
    "    <li><i>avg_unique_items_price</i> - Средняя цена товара, учитывая уникальность (количество товаров 1 типа не учитывается) </li>\n",
    "    <li><i>all_items_price</i> - Суммарная стоимость товаров когда либо купленных клиентом </li>\n",
    "    <li><i>avg_summed_cost_of_items_per_order</i> - Средняя сумма товаров в заказе </li>\n",
    "    <li><i>total_shipping_charges</i> - Средняя сумма всех услуг доставки </li>\n",
    "    <li><i>avg_shipping_charges</i> - Средняя цена доставки </li>\n",
    "    <li><i>total_service_charges</i> - Средняя сумма всех сервисных услуг </li>\n",
    "    <li><i>avg_service_charges</i> - Средняя стоимость сервисных услуг на заказ </li>\n",
    "    <li><i>total_payment</i> - Средняя сумма всех чеков </li>\n",
    "    <li><i>avg_payment</i> - Средний чек </li>\n",
    "    <li><i>total_profit</i> - Средняя маржа с клиента </li>\n",
    "    <li><i>avg_order_profit</i> - Средняя маржа с заказа </li>\n",
    "    <li><i>avg_item_profit</i> - Средняя маржа с товара </li><br>\n",
    "</ul>"
   ]
  },
  {
   "cell_type": "code",
   "execution_count": 1,
   "metadata": {},
   "outputs": [],
   "source": [
    "import pandas as pd\n",
    "import numpy as np\n",
    "from sklearn.cluster import KMeans, DBSCAN, AgglomerativeClustering, MeanShift, MiniBatchKMeans\n",
    "from sklearn.decomposition import PCA\n",
    "from sklearn import preprocessing\n",
    "import matplotlib.pyplot as plt\n",
    "import copy"
   ]
  },
  {
   "cell_type": "markdown",
   "metadata": {},
   "source": [
    "<h3> Read data </h3>"
   ]
  },
  {
   "cell_type": "code",
   "execution_count": 216,
   "metadata": {},
   "outputs": [],
   "source": [
    "file = pd.read_csv('data_mart.csv', sep=\",\", encoding='cp1251', index_col=0)"
   ]
  },
  {
   "cell_type": "code",
   "execution_count": 217,
   "metadata": {},
   "outputs": [],
   "source": [
    "data = copy.deepcopy(file)\n",
    "data = data.drop(['pickup', 'express delivery', 'transport company', 'DPD', 'pick point', 'store'], axis=1)\n",
    "data = data.drop(['cash payment', 'cashless payment', 'avg_delivered'], axis=1)"
   ]
  },
  {
   "cell_type": "code",
   "execution_count": 218,
   "metadata": {},
   "outputs": [],
   "source": [
    "scaler = preprocessing.MinMaxScaler()\n",
    "X = scaler.fit_transform(data)"
   ]
  },
  {
   "cell_type": "markdown",
   "metadata": {},
   "source": [
    "<h4> Clusterization </h4>"
   ]
  },
  {
   "cell_type": "code",
   "execution_count": 219,
   "metadata": {},
   "outputs": [],
   "source": [
    "K = 3"
   ]
  },
  {
   "cell_type": "code",
   "execution_count": 220,
   "metadata": {},
   "outputs": [],
   "source": [
    "kmeans = KMeans(n_clusters=K, random_state=0).fit(X)"
   ]
  },
  {
   "cell_type": "code",
   "execution_count": 221,
   "metadata": {},
   "outputs": [
    {
     "data": {
      "text/plain": [
       "array([0, 1, 1, ..., 1, 1, 0])"
      ]
     },
     "execution_count": 221,
     "metadata": {},
     "output_type": "execute_result"
    }
   ],
   "source": [
    "kmeans.labels_"
   ]
  },
  {
   "cell_type": "markdown",
   "metadata": {},
   "source": [
    "<h4> DBSCAN (alternative) </h4>"
   ]
  },
  {
   "cell_type": "code",
   "execution_count": 189,
   "metadata": {},
   "outputs": [
    {
     "name": "stdout",
     "output_type": "stream",
     "text": [
      "0.1\n",
      "0.2\n",
      "0.3\n",
      "0.4\n",
      "0.5\n",
      "0.6\n",
      "0.7\n",
      "0.8\n",
      "0.9\n",
      "1.0\n"
     ]
    }
   ],
   "source": [
    "X_sample = pd.DataFrame(X).sample(frac=0.05).values\n",
    "eps, cluster_counts = [], []\n",
    "for i in range(10):\n",
    "    eps_p = 0.35 + 0.01*i\n",
    "    dbscan = DBSCAN(eps=eps_p, n_jobs=4).fit(X_sample)\n",
    "    n_clusters_ = len(set(dbscan.labels_)) - (1 if -1 in dbscan.labels_ else 0)\n",
    "    eps.append(eps_p); cluster_counts.append(n_clusters_)\n",
    "    print((i+1)/10)"
   ]
  },
  {
   "cell_type": "code",
   "execution_count": 190,
   "metadata": {},
   "outputs": [
    {
     "data": {
      "text/plain": [
       "Text(0.5, 1.0, 'DBSCAN')"
      ]
     },
     "execution_count": 190,
     "metadata": {},
     "output_type": "execute_result"
    },
    {
     "data": {
      "image/png": "[encoded data removed]",
      "text/plain": [
       "<Figure size 1080x360 with 1 Axes>"
      ]
     },
     "metadata": {
      "needs_background": "light"
     },
     "output_type": "display_data"
    }
   ],
   "source": [
    "plt.figure(figsize=(15,5))\n",
    "plt.bar(np.round(np.array(eps), 2).astype(str), cluster_counts)\n",
    "plt.xlabel('eps - Maximum distance between two samples for one to be considered as in the neighborhood of the other.')\n",
    "plt.ylabel('number of clusters')\n",
    "plt.title('DBSCAN')"
   ]
  },
  {
   "cell_type": "code",
   "execution_count": 245,
   "metadata": {},
   "outputs": [],
   "source": [
    "dbscan = DBSCAN(eps=0.41, n_jobs=4).fit(X)"
   ]
  },
  {
   "cell_type": "code",
   "execution_count": 246,
   "metadata": {},
   "outputs": [],
   "source": [
    "uniqueDBS, countsDBS = np.unique(dbscan.labels_, return_counts=True)"
   ]
  },
  {
   "cell_type": "code",
   "execution_count": 247,
   "metadata": {},
   "outputs": [
    {
     "data": {
      "text/plain": [
       "[0.999766191255553, 0.00013360499682688132, 0.000100203747620161]"
      ]
     },
     "execution_count": 247,
     "metadata": {},
     "output_type": "execute_result"
    }
   ],
   "source": [
    "list(countsDBS[1:]/(sum(countsDBS[1:])))"
   ]
  },
  {
   "cell_type": "code",
   "execution_count": 241,
   "metadata": {},
   "outputs": [
    {
     "data": {
      "text/plain": [
       "array([0, 0, 0, ..., 0, 0, 0], dtype=int64)"
      ]
     },
     "execution_count": 241,
     "metadata": {},
     "output_type": "execute_result"
    }
   ],
   "source": [
    "dbscan.labels_"
   ]
  },
  {
   "cell_type": "markdown",
   "metadata": {},
   "source": [
    "<h4> Elbow method </h4>"
   ]
  },
  {
   "cell_type": "code",
   "execution_count": 24,
   "metadata": {},
   "outputs": [],
   "source": [
    "from scipy.spatial.distance import cdist"
   ]
  },
  {
   "cell_type": "code",
   "execution_count": 25,
   "metadata": {},
   "outputs": [],
   "source": [
    "# k means determine k\n",
    "distortions = []\n",
    "K = range(1,10)\n",
    "for k in K:\n",
    "    kmeanModel = KMeans(n_clusters=k).fit(X)\n",
    "    kmeanModel.fit(X)\n",
    "    distortions.append(sum(np.min(cdist(X, kmeanModel.cluster_centers_, 'euclidean'), axis=1)) / X.shape[0])"
   ]
  },
  {
   "cell_type": "code",
   "execution_count": 211,
   "metadata": {},
   "outputs": [
    {
     "data": {
      "image/png": "[encoded data removed]",
      "text/plain": [
       "<Figure size 720x432 with 1 Axes>"
      ]
     },
     "metadata": {
      "needs_background": "light"
     },
     "output_type": "display_data"
    }
   ],
   "source": [
    "# Plot the elbow\n",
    "plt.figure(figsize=(10,6))\n",
    "plt.axvline(3, 0, 1, label='slope change #1', color='red')\n",
    "plt.axvline(6, 0, 1, label='slope change #2', color='orange')\n",
    "plt.plot(K, distortions, 'bx-')\n",
    "plt.xlabel('k - number of clusters')\n",
    "plt.ylabel('Distortion')\n",
    "plt.title('The Elbow Method showing the optimal k')\n",
    "plt.legend(); plt.show()"
   ]
  },
  {
   "cell_type": "markdown",
   "metadata": {},
   "source": [
    "<h3> Dimensionality reduction and visualizing result </h3>"
   ]
  },
  {
   "cell_type": "code",
   "execution_count": 222,
   "metadata": {},
   "outputs": [
    {
     "data": {
      "text/plain": [
       "PCA(copy=True, iterated_power='auto', n_components=2, random_state=None,\n",
       "    svd_solver='auto', tol=0.0, whiten=False)"
      ]
     },
     "execution_count": 222,
     "metadata": {},
     "output_type": "execute_result"
    }
   ],
   "source": [
    "pca = PCA(n_components=2); pca.fit(X)"
   ]
  },
  {
   "cell_type": "code",
   "execution_count": 223,
   "metadata": {},
   "outputs": [
    {
     "name": "stdout",
     "output_type": "stream",
     "text": [
      "(60059, 2)\n"
     ]
    }
   ],
   "source": [
    "Y = pca.transform(X)\n",
    "print(Y.shape)"
   ]
  },
  {
   "cell_type": "code",
   "execution_count": 224,
   "metadata": {},
   "outputs": [],
   "source": [
    "colors = np.random.randint(0,255, size=(K,3))/255\n",
    "c_arr = np.array(list(map(lambda x: colors[x], list(kmeans.labels_))))"
   ]
  },
  {
   "cell_type": "code",
   "execution_count": 225,
   "metadata": {
    "scrolled": true
   },
   "outputs": [
    {
     "data": {
      "text/plain": [
       "<matplotlib.collections.PathCollection at 0x20c1f90f828>"
      ]
     },
     "execution_count": 225,
     "metadata": {},
     "output_type": "execute_result"
    },
    {
     "data": {
      "image/png": "[encoded data removed]",
      "text/plain": [
       "<Figure size 432x288 with 1 Axes>"
      ]
     },
     "metadata": {
      "needs_background": "light"
     },
     "output_type": "display_data"
    }
   ],
   "source": [
    "plt.scatter(Y[:, 0], Y[:, 1], c =c_arr)"
   ]
  },
  {
   "cell_type": "markdown",
   "metadata": {},
   "source": [
    "<h3> Cluster centers </h3>"
   ]
  },
  {
   "cell_type": "code",
   "execution_count": 226,
   "metadata": {},
   "outputs": [],
   "source": [
    "clusters_df = pd.DataFrame(scaler.inverse_transform(kmeans.cluster_centers_), columns = data.columns)"
   ]
  },
  {
   "cell_type": "code",
   "execution_count": null,
   "metadata": {},
   "outputs": [],
   "source": []
  },
  {
   "cell_type": "code",
   "execution_count": 227,
   "metadata": {},
   "outputs": [],
   "source": [
    "unique, counts = np.unique(kmeans.labels_, return_counts=True)\n",
    "n_profiles = np.asarray((unique, counts)).T[:, 1]\n",
    "n_profiles = n_profiles / np.sum(n_profiles)\n",
    "clusters_df['n_profiles'] = n_profiles"
   ]
  },
  {
   "cell_type": "code",
   "execution_count": 228,
   "metadata": {
    "scrolled": true
   },
   "outputs": [
    {
     "data": {
      "text/html": [
       "<div>\n",
       "<style scoped>\n",
       "    .dataframe tbody tr th:only-of-type {\n",
       "        vertical-align: middle;\n",
       "    }\n",
       "\n",
       "    .dataframe tbody tr th {\n",
       "        vertical-align: top;\n",
       "    }\n",
       "\n",
       "    .dataframe thead th {\n",
       "        text-align: right;\n",
       "    }\n",
       "</style>\n",
       "<table border=\"1\" class=\"dataframe\">\n",
       "  <thead>\n",
       "    <tr style=\"text-align: right;\">\n",
       "      <th></th>\n",
       "      <th>successful_orders_count</th>\n",
       "      <th>avg_unique_items_per_order</th>\n",
       "      <th>all_unique_items_purchased</th>\n",
       "      <th>avg_items_per_order</th>\n",
       "      <th>all_items_purchased</th>\n",
       "      <th>avg_item_price</th>\n",
       "      <th>avg_unique_items_price</th>\n",
       "      <th>all_items_price</th>\n",
       "      <th>avg_summed_cost_of_items_per_order</th>\n",
       "      <th>total_shipping_charges</th>\n",
       "      <th>...</th>\n",
       "      <th>women things</th>\n",
       "      <th>goods for pets</th>\n",
       "      <th>cosmetics and hygiene</th>\n",
       "      <th>diapers</th>\n",
       "      <th>Oversized</th>\n",
       "      <th>Compact</th>\n",
       "      <th>number_canceled</th>\n",
       "      <th>avg_number_canceled</th>\n",
       "      <th>total_delivered</th>\n",
       "      <th>n_profiles</th>\n",
       "    </tr>\n",
       "  </thead>\n",
       "  <tbody>\n",
       "    <tr>\n",
       "      <th>0</th>\n",
       "      <td>1.082241</td>\n",
       "      <td>1.207118</td>\n",
       "      <td>1.316546</td>\n",
       "      <td>1.239173</td>\n",
       "      <td>1.354293</td>\n",
       "      <td>7085.381763</td>\n",
       "      <td>7126.871803</td>\n",
       "      <td>8580.927049</td>\n",
       "      <td>7921.274457</td>\n",
       "      <td>45.683356</td>\n",
       "      <td>...</td>\n",
       "      <td>-7.849624e-17</td>\n",
       "      <td>0.000489</td>\n",
       "      <td>0.002825</td>\n",
       "      <td>0.002551</td>\n",
       "      <td>0.973841</td>\n",
       "      <td>0.026159</td>\n",
       "      <td>0.018678</td>\n",
       "      <td>0.006004</td>\n",
       "      <td>1.082241</td>\n",
       "      <td>0.170266</td>\n",
       "    </tr>\n",
       "    <tr>\n",
       "      <th>1</th>\n",
       "      <td>1.416111</td>\n",
       "      <td>3.527338</td>\n",
       "      <td>5.153833</td>\n",
       "      <td>5.452685</td>\n",
       "      <td>8.033451</td>\n",
       "      <td>935.697341</td>\n",
       "      <td>1223.226791</td>\n",
       "      <td>2800.155259</td>\n",
       "      <td>1952.223566</td>\n",
       "      <td>64.798946</td>\n",
       "      <td>...</td>\n",
       "      <td>1.174920e-03</td>\n",
       "      <td>0.022055</td>\n",
       "      <td>0.094087</td>\n",
       "      <td>0.259416</td>\n",
       "      <td>0.017843</td>\n",
       "      <td>0.982157</td>\n",
       "      <td>0.082797</td>\n",
       "      <td>0.009574</td>\n",
       "      <td>1.416111</td>\n",
       "      <td>0.571921</td>\n",
       "    </tr>\n",
       "    <tr>\n",
       "      <th>2</th>\n",
       "      <td>1.162297</td>\n",
       "      <td>2.399730</td>\n",
       "      <td>2.900607</td>\n",
       "      <td>2.575791</td>\n",
       "      <td>3.143890</td>\n",
       "      <td>1284.343459</td>\n",
       "      <td>1313.564706</td>\n",
       "      <td>2249.578662</td>\n",
       "      <td>1943.915984</td>\n",
       "      <td>67.413588</td>\n",
       "      <td>...</td>\n",
       "      <td>3.523756e-05</td>\n",
       "      <td>0.001072</td>\n",
       "      <td>0.006775</td>\n",
       "      <td>0.007777</td>\n",
       "      <td>0.018408</td>\n",
       "      <td>0.981592</td>\n",
       "      <td>0.053152</td>\n",
       "      <td>0.008523</td>\n",
       "      <td>1.162297</td>\n",
       "      <td>0.257813</td>\n",
       "    </tr>\n",
       "  </tbody>\n",
       "</table>\n",
       "<p>3 rows × 37 columns</p>\n",
       "</div>"
      ],
      "text/plain": [
       "   successful_orders_count  avg_unique_items_per_order  \\\n",
       "0                 1.082241                    1.207118   \n",
       "1                 1.416111                    3.527338   \n",
       "2                 1.162297                    2.399730   \n",
       "\n",
       "   all_unique_items_purchased  avg_items_per_order  all_items_purchased  \\\n",
       "0                    1.316546             1.239173             1.354293   \n",
       "1                    5.153833             5.452685             8.033451   \n",
       "2                    2.900607             2.575791             3.143890   \n",
       "\n",
       "   avg_item_price  avg_unique_items_price  all_items_price  \\\n",
       "0     7085.381763             7126.871803      8580.927049   \n",
       "1      935.697341             1223.226791      2800.155259   \n",
       "2     1284.343459             1313.564706      2249.578662   \n",
       "\n",
       "   avg_summed_cost_of_items_per_order  total_shipping_charges  ...  \\\n",
       "0                         7921.274457               45.683356  ...   \n",
       "1                         1952.223566               64.798946  ...   \n",
       "2                         1943.915984               67.413588  ...   \n",
       "\n",
       "   women things  goods for pets  cosmetics and hygiene   diapers  Oversized  \\\n",
       "0 -7.849624e-17        0.000489               0.002825  0.002551   0.973841   \n",
       "1  1.174920e-03        0.022055               0.094087  0.259416   0.017843   \n",
       "2  3.523756e-05        0.001072               0.006775  0.007777   0.018408   \n",
       "\n",
       "    Compact  number_canceled  avg_number_canceled  total_delivered  n_profiles  \n",
       "0  0.026159         0.018678             0.006004         1.082241    0.170266  \n",
       "1  0.982157         0.082797             0.009574         1.416111    0.571921  \n",
       "2  0.981592         0.053152             0.008523         1.162297    0.257813  \n",
       "\n",
       "[3 rows x 37 columns]"
      ]
     },
     "execution_count": 228,
     "metadata": {},
     "output_type": "execute_result"
    }
   ],
   "source": [
    "clusters_df"
   ]
  },
  {
   "cell_type": "code",
   "execution_count": null,
   "metadata": {},
   "outputs": [],
   "source": []
  },
  {
   "cell_type": "code",
   "execution_count": null,
   "metadata": {},
   "outputs": [],
   "source": []
  },
  {
   "cell_type": "code",
   "execution_count": null,
   "metadata": {},
   "outputs": [],
   "source": []
  },
  {
   "cell_type": "code",
   "execution_count": null,
   "metadata": {},
   "outputs": [],
   "source": []
  },
  {
   "cell_type": "code",
   "execution_count": null,
   "metadata": {},
   "outputs": [],
   "source": []
  },
  {
   "cell_type": "code",
   "execution_count": 229,
   "metadata": {},
   "outputs": [],
   "source": [
    "#///////////////////////////////////////////////////////////////////////////////////////////"
   ]
  },
  {
   "cell_type": "code",
   "execution_count": 230,
   "metadata": {},
   "outputs": [],
   "source": [
    "data_tr = np.roll(clusters_df.values, -1, axis=0).transpose()"
   ]
  },
  {
   "cell_type": "code",
   "execution_count": 231,
   "metadata": {},
   "outputs": [],
   "source": [
    "data_std = data_tr.std(axis=1)\n",
    "data_mean = data_tr.mean(axis=1)"
   ]
  },
  {
   "cell_type": "code",
   "execution_count": 232,
   "metadata": {},
   "outputs": [],
   "source": [
    "df_tr = pd.DataFrame(data_tr, index=clusters_df.columns, columns=[\"Group 1\", \"Group 2\", \"Group 3\"])\n",
    "df_tr['STD'] = data_std\n",
    "df_tr['Mean'] = data_mean"
   ]
  },
  {
   "cell_type": "code",
   "execution_count": 233,
   "metadata": {},
   "outputs": [
    {
     "data": {
      "text/html": [
       "<div>\n",
       "<style scoped>\n",
       "    .dataframe tbody tr th:only-of-type {\n",
       "        vertical-align: middle;\n",
       "    }\n",
       "\n",
       "    .dataframe tbody tr th {\n",
       "        vertical-align: top;\n",
       "    }\n",
       "\n",
       "    .dataframe thead th {\n",
       "        text-align: right;\n",
       "    }\n",
       "</style>\n",
       "<table border=\"1\" class=\"dataframe\">\n",
       "  <thead>\n",
       "    <tr style=\"text-align: right;\">\n",
       "      <th></th>\n",
       "      <th>Group 1</th>\n",
       "      <th>Group 2</th>\n",
       "      <th>Group 3</th>\n",
       "      <th>STD</th>\n",
       "      <th>Mean</th>\n",
       "    </tr>\n",
       "  </thead>\n",
       "  <tbody>\n",
       "    <tr>\n",
       "      <th>successful_orders_count</th>\n",
       "      <td>1.416111</td>\n",
       "      <td>1.162297</td>\n",
       "      <td>1.082241</td>\n",
       "      <td>0.142322</td>\n",
       "      <td>1.220216</td>\n",
       "    </tr>\n",
       "    <tr>\n",
       "      <th>avg_unique_items_per_order</th>\n",
       "      <td>3.527338</td>\n",
       "      <td>2.399730</td>\n",
       "      <td>1.207118</td>\n",
       "      <td>0.947350</td>\n",
       "      <td>2.378062</td>\n",
       "    </tr>\n",
       "    <tr>\n",
       "      <th>all_unique_items_purchased</th>\n",
       "      <td>5.153833</td>\n",
       "      <td>2.900607</td>\n",
       "      <td>1.316546</td>\n",
       "      <td>1.574486</td>\n",
       "      <td>3.123662</td>\n",
       "    </tr>\n",
       "    <tr>\n",
       "      <th>avg_items_per_order</th>\n",
       "      <td>5.452685</td>\n",
       "      <td>2.575791</td>\n",
       "      <td>1.239173</td>\n",
       "      <td>1.758053</td>\n",
       "      <td>3.089216</td>\n",
       "    </tr>\n",
       "    <tr>\n",
       "      <th>all_items_purchased</th>\n",
       "      <td>8.033451</td>\n",
       "      <td>3.143890</td>\n",
       "      <td>1.354293</td>\n",
       "      <td>2.822954</td>\n",
       "      <td>4.177211</td>\n",
       "    </tr>\n",
       "  </tbody>\n",
       "</table>\n",
       "</div>"
      ],
      "text/plain": [
       "                             Group 1   Group 2   Group 3       STD      Mean\n",
       "successful_orders_count     1.416111  1.162297  1.082241  0.142322  1.220216\n",
       "avg_unique_items_per_order  3.527338  2.399730  1.207118  0.947350  2.378062\n",
       "all_unique_items_purchased  5.153833  2.900607  1.316546  1.574486  3.123662\n",
       "avg_items_per_order         5.452685  2.575791  1.239173  1.758053  3.089216\n",
       "all_items_purchased         8.033451  3.143890  1.354293  2.822954  4.177211"
      ]
     },
     "execution_count": 233,
     "metadata": {},
     "output_type": "execute_result"
    }
   ],
   "source": [
    "df_tr.head()"
   ]
  },
  {
   "cell_type": "code",
   "execution_count": null,
   "metadata": {},
   "outputs": [],
   "source": []
  },
  {
   "cell_type": "code",
   "execution_count": null,
   "metadata": {},
   "outputs": [],
   "source": []
  },
  {
   "cell_type": "markdown",
   "metadata": {},
   "source": [
    "<h4> This is some junk for saving purpuses </h4>"
   ]
  },
  {
   "cell_type": "code",
   "execution_count": 234,
   "metadata": {},
   "outputs": [],
   "source": [
    "df_tr.to_excel('market_clusters_vertical.xlsx', sheet_name='market_clusters')"
   ]
  },
  {
   "cell_type": "code",
   "execution_count": null,
   "metadata": {},
   "outputs": [],
   "source": []
  },
  {
   "cell_type": "code",
   "execution_count": 269,
   "metadata": {},
   "outputs": [],
   "source": [
    "clusters_df.to_csv('market_clusters.csv', sep=',', encoding='cp1251')"
   ]
  },
  {
   "cell_type": "code",
   "execution_count": 270,
   "metadata": {},
   "outputs": [],
   "source": [
    "clusters_df.to_excel('market_clusters_excel.xlsx', sheet_name='market_clusters')"
   ]
  },
  {
   "cell_type": "code",
   "execution_count": null,
   "metadata": {},
   "outputs": [],
   "source": []
  },
  {
   "cell_type": "code",
   "execution_count": 267,
   "metadata": {},
   "outputs": [],
   "source": [
    "data['cluster'] = kmeans.labels_\n",
    "data.to_csv('data_mart_clustered.csv', sep=',', encoding='cp1251')"
   ]
  }
 ],
 "metadata": {
  "kernelspec": {
   "display_name": "Python 3.6.5 64-bit ('base': conda)",
   "language": "python",
   "name": "python36564bitbaseconda4db4657131b6427e8cce7e3834bee618"
  },
  "language_info": {
   "codemirror_mode": {
    "name": "ipython",
    "version": 3
   },
   "file_extension": ".py",
   "mimetype": "text/x-python",
   "name": "python",
   "nbconvert_exporter": "python",
   "pygments_lexer": "ipython3",
   "version": "3.6.5"
  }
 },
 "nbformat": 4,
 "nbformat_minor": 2
}
