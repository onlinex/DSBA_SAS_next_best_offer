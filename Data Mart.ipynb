{
 "cells": [
  {
   "cell_type": "markdown",
   "metadata": {},
   "source": [
    "<h3> Explanation </h3>"
   ]
  },
  {
   "cell_type": "code",
   "execution_count": 1,
   "metadata": {},
   "outputs": [],
   "source": [
    "# avg_payment - средний чек"
   ]
  },
  {
   "cell_type": "markdown",
   "metadata": {},
   "source": [
    "*By saying \"distict item\", I mean that I do not take into account the number of such goods in one order\n",
    "<h4> Prices and Counters </h4>\n",
    "<ul>\n",
    "    <li><i>successful_orders_count</i> - number of total delivered orderes that were performed by the client </li>\n",
    "    <li><i>avg_unique_items_per_order</i> - number of distict items that are purchased on average in one order </li>\n",
    "    <li><i>all_unique_items_purchased</i> - total number of distict items that has ever been purchased across all orders made </li>\n",
    "    <li><i>avg_items_per_order</i> - number of items purchased on average in one order </li>\n",
    "    <li><i>all_items_purchased</i> - total number of items ever purchased by the client across all orders made </li>\n",
    "    <li><i>avg_item_price</i> - average price of one good in one order </li>\n",
    "    <li><i>avg_unique_items_price</i> - average price of one distict good in one order </li>\n",
    "    <li><i>all_items_price</i> - total price of all items ever purchased by the client </li>\n",
    "    <li><i>avg_summed_cost_of_items_per_order</i> - average price of all items summed in one order </li>\n",
    "    <li><i>total_shipping_charges</i> - total cost of all shipping costs ever charged </li>\n",
    "    <li><i>avg_shipping_charges</i> - average cost of shipping charges per order </li>\n",
    "    <li><i>total_service_charges</i> - total cost of all service costs ever charged </li>\n",
    "    <li><i>avg_service_charges</i> - total cost of service charges per order </li>\n",
    "    <li><i>total_payment</i> - total value paid by the client </li>\n",
    "    <li><i>avg_payment</i> - average value paid by the client per order </li>\n",
    "    <li><i>total_profit</i> - total profit for one client </li>\n",
    "    <li><i>avg_order_profit</i> - average profit per order </li>\n",
    "    <li><i>avg_item_profit</i> - average profit per item </li><br>\n",
    "</ul>\n",
    "<h4>Share of items in a certain category</h4>\n",
    "<ul>\n",
    "    <li><i>related products</i></li>\n",
    "    <li><i>baby food</i></li>\n",
    "    <li><i>office goods</i></li>\n",
    "    <li><i>books, disks</i></li>\n",
    "    <li><i>breastfeeding products</i></li>\n",
    "    <li><i>textile, knitwear</i></li>\n",
    "    <li><i>footwear</i></li>\n",
    "    <li><i>oversized goods</i></li>\n",
    "    <li><i>toys</i></li>\n",
    "    <li><i>women things</i></li>\n",
    "    <li><i>goods for pets</i></li>\n",
    "    <li><i>cosmetics and hygiene</i></li>\n",
    "    <li><i>diapers</i></li>\n",
    "</ul>\n",
    "<h4>Share of different shipping methods used</h4>\n",
    "<ul>\n",
    "    <li><i>pickup</i></li>\n",
    "    <li><i>express delivery</i></li>\n",
    "    <li><i>transport company</i></li>\n",
    "    <li><i>DPD</i></li>\n",
    "    <li><i>pick point</i></li>\n",
    "    <li><i>store</i></li>\n",
    "</ul>\n",
    "<h4>Share of item size category</h4>\n",
    "<ul>\n",
    "    <li><i>Oversized</i></li>\n",
    "    <li><i>Compact</i></li>\n",
    "</ul>\n",
    "<h4>Share of payment method used</h4>\n",
    "<ul>\n",
    "    <li><i>cash payment</i></li>\n",
    "    <li><i>cashless payment</i></li>\n",
    "</ul>\n",
    "<h4>Canceled and delivered orders</h4>\n",
    "<ul>\n",
    "    <li><i>number_canceled</i> - total number of canceled orders per client</li>\n",
    "    <li><i>avg_number_canceled</i> - average number of canceled orders per client</li>\n",
    "    <li><i>total_delivered</i> - total number of delivered orders per client </li>\n",
    "    <li><i>avg_delivered</i> - average number of delivered orders per client </li>\n",
    "</ul>"
   ]
  },
  {
   "cell_type": "code",
   "execution_count": 2,
   "metadata": {},
   "outputs": [],
   "source": [
    "import pandas as pd\n",
    "import numpy as np\n",
    "from scipy import stats"
   ]
  },
  {
   "cell_type": "code",
   "execution_count": 3,
   "metadata": {},
   "outputs": [
    {
     "name": "stderr",
     "output_type": "stream",
     "text": [
      "C:\\Program Files (x86)\\Microsoft Visual Studio\\Shared\\Anaconda3_64\\lib\\site-packages\\IPython\\core\\interactiveshell.py:3058: DtypeWarning: Columns (17) have mixed types. Specify dtype option on import or set low_memory=False.\n",
      "  interactivity=interactivity, compiler=compiler, result=result)\n"
     ]
    }
   ],
   "source": [
    "data = pd.read_csv('SAS_data_clean11.csv', sep=\";\", encoding='cp1251')"
   ]
  },
  {
   "cell_type": "code",
   "execution_count": 4,
   "metadata": {},
   "outputs": [
    {
     "data": {
      "text/plain": [
       "Index(['Unnamed: 0', 'Дата', 'ДатаДоставки', 'НомерЗаказаНаСайте',\n",
       "       'НовыйСтатус', 'СуммаЗаказаНаСайте', 'СуммаДокумента', 'МетодДоставки',\n",
       "       'ФормаОплаты', 'Регион', 'Группа2', 'Группа3', 'Группа4', 'Тип',\n",
       "       'Номенклатура', 'ТипТовара', 'Отменено', 'ПричинаОтмены', 'Количество',\n",
       "       'Цена', 'СуммаСтроки', 'ЦенаЗакупки', 'МесяцДатыЗаказа',\n",
       "       'ГодДатыЗаказа', 'ПВЗ_код', 'Статус', 'Гео', 'Маржа', 'СуммаУслуг',\n",
       "       'СуммаДоставки', 'НомерСтроки', 'КоличествоПроданоКлиенту',\n",
       "       'ДатаЗаказаНаСайте', 'Телефон_new', 'ЭлектроннаяПочта_new', 'Клиент',\n",
       "       'ID_SKU', 'ГородМагазина', 'МагазинЗаказа'],\n",
       "      dtype='object')"
      ]
     },
     "execution_count": 4,
     "metadata": {},
     "output_type": "execute_result"
    }
   ],
   "source": [
    "data.columns"
   ]
  },
  {
   "cell_type": "code",
   "execution_count": 5,
   "metadata": {},
   "outputs": [],
   "source": [
    "# number of orders, average order sum, average number of items in order, how much one paid, number of items, mean profit, \n",
    "# number of returned, return percentage, category percentage"
   ]
  },
  {
   "cell_type": "markdown",
   "metadata": {},
   "source": [
    "<h5> Convert to numeric </h5>"
   ]
  },
  {
   "cell_type": "code",
   "execution_count": 6,
   "metadata": {},
   "outputs": [],
   "source": [
    "numeric = ['СуммаЗаказаНаСайте', 'СуммаДокумента', 'Количество', 'Цена', 'СуммаСтроки', 'ЦенаЗакупки', 'Маржа', 'СуммаУслуг',\n",
    "          'СуммаДоставки', 'КоличествоПроданоКлиенту']\n",
    "\n",
    "def clear_to_int(x):\n",
    "    x = str(x)\n",
    "    \n",
    "    x = x.replace(' ', '').replace(',','.')\n",
    "    return float(x)\n",
    "\n",
    "for c in numeric:\n",
    "    data[c] = data[c].apply(lambda x: clear_to_int(x)).astype(int)"
   ]
  },
  {
   "cell_type": "markdown",
   "metadata": {},
   "source": [
    "<h4> Categorical stats </h4>"
   ]
  },
  {
   "cell_type": "markdown",
   "metadata": {},
   "source": [
    "<h6> Total number of items purchased in each category </h6>"
   ]
  },
  {
   "cell_type": "code",
   "execution_count": 7,
   "metadata": {},
   "outputs": [
    {
     "data": {
      "text/plain": [
       "['ПОДГУЗНИКИ',\n",
       " 'ИГРУШКИ',\n",
       " 'СОПУТСТВУЮЩИЕ ТОВАРЫ',\n",
       " 'ТЕХНИКА И ТОВАРЫ ДЛЯ ДОМА',\n",
       " 'КОСМЕТИКА/ГИГИЕНА',\n",
       " 'ТЕКСТИЛЬ, ТРИКОТАЖ',\n",
       " 'ДЕТСКОЕ ПИТАНИЕ',\n",
       " 'ТОВАРЫ ДЛЯ ЖИВОТНЫХ',\n",
       " 'КРУПНОГАБАРИТНЫЙ ТОВАР',\n",
       " 'КАНЦТОВАРЫ, КНИГИ, ДИСКИ',\n",
       " 'ЖЕНСКИЕ ШТУЧКИ',\n",
       " 'ОБУВЬ',\n",
       " 'ТОВАРЫ ДЛЯ КОРМЛЕНИЯ']"
      ]
     },
     "execution_count": 7,
     "metadata": {},
     "output_type": "execute_result"
    }
   ],
   "source": [
    "list(set(data['Группа2'].values))"
   ]
  },
  {
   "cell_type": "code",
   "execution_count": 8,
   "metadata": {},
   "outputs": [],
   "source": [
    "# sum the number of the items within a group\n",
    "def pr(x, tag):\n",
    "    return (np.array(x).reshape((-1)) == tag).sum()"
   ]
  },
  {
   "cell_type": "code",
   "execution_count": 9,
   "metadata": {},
   "outputs": [],
   "source": [
    "index_sort = (data['НовыйСтатус'] == 'Доставлен') & (data['Отменено'] == 'Нет')"
   ]
  },
  {
   "cell_type": "code",
   "execution_count": 10,
   "metadata": {
    "scrolled": true
   },
   "outputs": [
    {
     "name": "stderr",
     "output_type": "stream",
     "text": [
      "C:\\Program Files (x86)\\Microsoft Visual Studio\\Shared\\Anaconda3_64\\lib\\site-packages\\pandas\\core\\groupby\\generic.py:1455: FutureWarning: using a dict with renaming is deprecated and will be removed\n",
      "in a future version.\n",
      "\n",
      "For column-specific groupby renaming, use named aggregation\n",
      "\n",
      "    >>> df.groupby(...).agg(name=('column', aggfunc))\n",
      "\n",
      "  return super().aggregate(arg, *args, **kwargs)\n"
     ]
    }
   ],
   "source": [
    "items_groups = data[index_sort].groupby(['Телефон_new', 'НомерЗаказаНаСайте']).agg({\n",
    "    'Группа2': {\n",
    "        'related products' : lambda x: pr(x,'СОПУТСТВУЮЩИЕ ТОВАРЫ'),\n",
    "        'baby food' : lambda x: pr(x,'ДЕТСКОЕ ПИТАНИЕ'),\n",
    "        'office goods' : lambda x: pr(x,'КАНЦТОВАРЫ, КНИГИ, ДИСКИ'),\n",
    "        'books, disks' : lambda x: pr(x,'ДЕТСКОЕ ПИТАНИЕ'),\n",
    "        'breastfeeding products' : lambda x: pr(x,'ТОВАРЫ ДЛЯ КОРМЛЕНИЯ'),\n",
    "        'textile, knitwear' : lambda x: pr(x,'ТЕКСТИЛЬ, ТРИКОТАЖ'),\n",
    "        'footwear' : lambda x: pr(x,'ОБУВЬ'),\n",
    "        'oversized goods' : lambda x: pr(x,'КРУПНОГАБАРИТНЫЙ ТОВАР'),\n",
    "        'toys' : lambda x: pr(x,'ИГРУШКИ'),\n",
    "        'women things' : lambda x: pr(x,'ЖЕНСКИЕ ШТУЧКИ'),\n",
    "        'goods for pets' : lambda x: pr(x,'ТОВАРЫ ДЛЯ ЖИВОТНЫХ'),\n",
    "        'cosmetics and hygiene' : lambda x: pr(x,'КОСМЕТИКА/ГИГИЕНА'),\n",
    "        'diapers' : lambda x: pr(x,'ПОДГУЗНИКИ'),\n",
    "    }\n",
    "})\n",
    "items_groups.columns = items_groups.columns.get_level_values(1)\n",
    "items_groups = items_groups.groupby(level=0).agg('sum')"
   ]
  },
  {
   "cell_type": "code",
   "execution_count": 11,
   "metadata": {},
   "outputs": [
    {
     "data": {
      "text/plain": [
       "(60060, 13)"
      ]
     },
     "execution_count": 11,
     "metadata": {},
     "output_type": "execute_result"
    }
   ],
   "source": [
    "items_groups.shape"
   ]
  },
  {
   "cell_type": "code",
   "execution_count": 12,
   "metadata": {},
   "outputs": [
    {
     "data": {
      "text/html": [
       "<div>\n",
       "<style scoped>\n",
       "    .dataframe tbody tr th:only-of-type {\n",
       "        vertical-align: middle;\n",
       "    }\n",
       "\n",
       "    .dataframe tbody tr th {\n",
       "        vertical-align: top;\n",
       "    }\n",
       "\n",
       "    .dataframe thead th {\n",
       "        text-align: right;\n",
       "    }\n",
       "</style>\n",
       "<table border=\"1\" class=\"dataframe\">\n",
       "  <thead>\n",
       "    <tr style=\"text-align: right;\">\n",
       "      <th></th>\n",
       "      <th>related products</th>\n",
       "      <th>baby food</th>\n",
       "      <th>office goods</th>\n",
       "      <th>books, disks</th>\n",
       "      <th>breastfeeding products</th>\n",
       "      <th>textile, knitwear</th>\n",
       "      <th>footwear</th>\n",
       "      <th>oversized goods</th>\n",
       "      <th>toys</th>\n",
       "      <th>women things</th>\n",
       "      <th>goods for pets</th>\n",
       "      <th>cosmetics and hygiene</th>\n",
       "      <th>diapers</th>\n",
       "    </tr>\n",
       "    <tr>\n",
       "      <th>Телефон_new</th>\n",
       "      <th></th>\n",
       "      <th></th>\n",
       "      <th></th>\n",
       "      <th></th>\n",
       "      <th></th>\n",
       "      <th></th>\n",
       "      <th></th>\n",
       "      <th></th>\n",
       "      <th></th>\n",
       "      <th></th>\n",
       "      <th></th>\n",
       "      <th></th>\n",
       "      <th></th>\n",
       "    </tr>\n",
       "  </thead>\n",
       "  <tbody>\n",
       "    <tr>\n",
       "      <th>55515349-57485148505273</th>\n",
       "      <td>0</td>\n",
       "      <td>0</td>\n",
       "      <td>0</td>\n",
       "      <td>0</td>\n",
       "      <td>0</td>\n",
       "      <td>0</td>\n",
       "      <td>0</td>\n",
       "      <td>1</td>\n",
       "      <td>0</td>\n",
       "      <td>0</td>\n",
       "      <td>0</td>\n",
       "      <td>0</td>\n",
       "      <td>0</td>\n",
       "    </tr>\n",
       "    <tr>\n",
       "      <th>55515349-57485748544876</th>\n",
       "      <td>0</td>\n",
       "      <td>0</td>\n",
       "      <td>0</td>\n",
       "      <td>0</td>\n",
       "      <td>0</td>\n",
       "      <td>0</td>\n",
       "      <td>0</td>\n",
       "      <td>1</td>\n",
       "      <td>0</td>\n",
       "      <td>0</td>\n",
       "      <td>0</td>\n",
       "      <td>0</td>\n",
       "      <td>0</td>\n",
       "    </tr>\n",
       "    <tr>\n",
       "      <th>55535057-57525455575274</th>\n",
       "      <td>0</td>\n",
       "      <td>0</td>\n",
       "      <td>0</td>\n",
       "      <td>0</td>\n",
       "      <td>0</td>\n",
       "      <td>3</td>\n",
       "      <td>0</td>\n",
       "      <td>0</td>\n",
       "      <td>0</td>\n",
       "      <td>0</td>\n",
       "      <td>0</td>\n",
       "      <td>0</td>\n",
       "      <td>0</td>\n",
       "    </tr>\n",
       "    <tr>\n",
       "      <th>55545651-57575053555375</th>\n",
       "      <td>0</td>\n",
       "      <td>0</td>\n",
       "      <td>0</td>\n",
       "      <td>0</td>\n",
       "      <td>0</td>\n",
       "      <td>0</td>\n",
       "      <td>1</td>\n",
       "      <td>0</td>\n",
       "      <td>0</td>\n",
       "      <td>0</td>\n",
       "      <td>0</td>\n",
       "      <td>0</td>\n",
       "      <td>0</td>\n",
       "    </tr>\n",
       "    <tr>\n",
       "      <th>55574848-48484957505771</th>\n",
       "      <td>0</td>\n",
       "      <td>0</td>\n",
       "      <td>0</td>\n",
       "      <td>0</td>\n",
       "      <td>0</td>\n",
       "      <td>0</td>\n",
       "      <td>0</td>\n",
       "      <td>0</td>\n",
       "      <td>8</td>\n",
       "      <td>0</td>\n",
       "      <td>0</td>\n",
       "      <td>0</td>\n",
       "      <td>0</td>\n",
       "    </tr>\n",
       "  </tbody>\n",
       "</table>\n",
       "</div>"
      ],
      "text/plain": [
       "                         related products  baby food  office goods  \\\n",
       "Телефон_new                                                          \n",
       "55515349-57485148505273                 0          0             0   \n",
       "55515349-57485748544876                 0          0             0   \n",
       "55535057-57525455575274                 0          0             0   \n",
       "55545651-57575053555375                 0          0             0   \n",
       "55574848-48484957505771                 0          0             0   \n",
       "\n",
       "                         books, disks  breastfeeding products  \\\n",
       "Телефон_new                                                     \n",
       "55515349-57485148505273             0                       0   \n",
       "55515349-57485748544876             0                       0   \n",
       "55535057-57525455575274             0                       0   \n",
       "55545651-57575053555375             0                       0   \n",
       "55574848-48484957505771             0                       0   \n",
       "\n",
       "                         textile, knitwear  footwear  oversized goods  toys  \\\n",
       "Телефон_new                                                                   \n",
       "55515349-57485148505273                  0         0                1     0   \n",
       "55515349-57485748544876                  0         0                1     0   \n",
       "55535057-57525455575274                  3         0                0     0   \n",
       "55545651-57575053555375                  0         1                0     0   \n",
       "55574848-48484957505771                  0         0                0     8   \n",
       "\n",
       "                         women things  goods for pets  cosmetics and hygiene  \\\n",
       "Телефон_new                                                                    \n",
       "55515349-57485148505273             0               0                      0   \n",
       "55515349-57485748544876             0               0                      0   \n",
       "55535057-57525455575274             0               0                      0   \n",
       "55545651-57575053555375             0               0                      0   \n",
       "55574848-48484957505771             0               0                      0   \n",
       "\n",
       "                         diapers  \n",
       "Телефон_new                       \n",
       "55515349-57485148505273        0  \n",
       "55515349-57485748544876        0  \n",
       "55535057-57525455575274        0  \n",
       "55545651-57575053555375        0  \n",
       "55574848-48484957505771        0  "
      ]
     },
     "execution_count": 12,
     "metadata": {},
     "output_type": "execute_result"
    }
   ],
   "source": [
    "items_groups.head(5) # total number of purchases made within category"
   ]
  },
  {
   "cell_type": "markdown",
   "metadata": {},
   "source": [
    "<h6> Total number of shipping methods used </h6>"
   ]
  },
  {
   "cell_type": "code",
   "execution_count": 13,
   "metadata": {},
   "outputs": [
    {
     "data": {
      "text/plain": [
       "['Магазины']"
      ]
     },
     "execution_count": 13,
     "metadata": {},
     "output_type": "execute_result"
    }
   ],
   "source": [
    "list(set(data['МетодДоставки'].values))"
   ]
  },
  {
   "cell_type": "code",
   "execution_count": 14,
   "metadata": {},
   "outputs": [],
   "source": [
    "# set 1 if the type exists, 0 otherwise\n",
    "def sr(x, tag):\n",
    "    return int((np.array(x).reshape((-1)) == tag).max())"
   ]
  },
  {
   "cell_type": "code",
   "execution_count": 15,
   "metadata": {},
   "outputs": [],
   "source": [
    "shipping_stats = data[index_sort].groupby(['Телефон_new', 'НомерЗаказаНаСайте']).agg({\n",
    "    'МетодДоставки': {\n",
    "        'pickup' : lambda x: sr(x,'Самовывоз'),\n",
    "        'express delivery' : lambda x: sr(x,'Курьерская'),\n",
    "        'transport company' : lambda x: sr(x,'Транспортная компания'),\n",
    "        'DPD' : lambda x: sr(x,'DPD'),\n",
    "        'pick point' : lambda x: sr(x,'Pick point'),\n",
    "        'store' : lambda x: sr(x,'Магазины'),\n",
    "    }\n",
    "})\n",
    "shipping_stats.columns = shipping_stats.columns.get_level_values(1)\n",
    "shipping_stats = shipping_stats.groupby(level=0).agg('sum')"
   ]
  },
  {
   "cell_type": "code",
   "execution_count": 16,
   "metadata": {},
   "outputs": [
    {
     "data": {
      "text/plain": [
       "(60060, 6)"
      ]
     },
     "execution_count": 16,
     "metadata": {},
     "output_type": "execute_result"
    }
   ],
   "source": [
    "shipping_stats.shape"
   ]
  },
  {
   "cell_type": "code",
   "execution_count": 17,
   "metadata": {},
   "outputs": [
    {
     "data": {
      "text/html": [
       "<div>\n",
       "<style scoped>\n",
       "    .dataframe tbody tr th:only-of-type {\n",
       "        vertical-align: middle;\n",
       "    }\n",
       "\n",
       "    .dataframe tbody tr th {\n",
       "        vertical-align: top;\n",
       "    }\n",
       "\n",
       "    .dataframe thead th {\n",
       "        text-align: right;\n",
       "    }\n",
       "</style>\n",
       "<table border=\"1\" class=\"dataframe\">\n",
       "  <thead>\n",
       "    <tr style=\"text-align: right;\">\n",
       "      <th></th>\n",
       "      <th>pickup</th>\n",
       "      <th>express delivery</th>\n",
       "      <th>transport company</th>\n",
       "      <th>DPD</th>\n",
       "      <th>pick point</th>\n",
       "      <th>store</th>\n",
       "    </tr>\n",
       "    <tr>\n",
       "      <th>Телефон_new</th>\n",
       "      <th></th>\n",
       "      <th></th>\n",
       "      <th></th>\n",
       "      <th></th>\n",
       "      <th></th>\n",
       "      <th></th>\n",
       "    </tr>\n",
       "  </thead>\n",
       "  <tbody>\n",
       "    <tr>\n",
       "      <th>55515349-57485148505273</th>\n",
       "      <td>0</td>\n",
       "      <td>0</td>\n",
       "      <td>0</td>\n",
       "      <td>0</td>\n",
       "      <td>0</td>\n",
       "      <td>1</td>\n",
       "    </tr>\n",
       "    <tr>\n",
       "      <th>55515349-57485748544876</th>\n",
       "      <td>0</td>\n",
       "      <td>0</td>\n",
       "      <td>0</td>\n",
       "      <td>0</td>\n",
       "      <td>0</td>\n",
       "      <td>1</td>\n",
       "    </tr>\n",
       "    <tr>\n",
       "      <th>55535057-57525455575274</th>\n",
       "      <td>0</td>\n",
       "      <td>0</td>\n",
       "      <td>0</td>\n",
       "      <td>0</td>\n",
       "      <td>0</td>\n",
       "      <td>1</td>\n",
       "    </tr>\n",
       "    <tr>\n",
       "      <th>55545651-57575053555375</th>\n",
       "      <td>0</td>\n",
       "      <td>0</td>\n",
       "      <td>0</td>\n",
       "      <td>0</td>\n",
       "      <td>0</td>\n",
       "      <td>1</td>\n",
       "    </tr>\n",
       "    <tr>\n",
       "      <th>55574848-48484957505771</th>\n",
       "      <td>0</td>\n",
       "      <td>0</td>\n",
       "      <td>0</td>\n",
       "      <td>0</td>\n",
       "      <td>0</td>\n",
       "      <td>1</td>\n",
       "    </tr>\n",
       "  </tbody>\n",
       "</table>\n",
       "</div>"
      ],
      "text/plain": [
       "                         pickup  express delivery  transport company  DPD  \\\n",
       "Телефон_new                                                                 \n",
       "55515349-57485148505273       0                 0                  0    0   \n",
       "55515349-57485748544876       0                 0                  0    0   \n",
       "55535057-57525455575274       0                 0                  0    0   \n",
       "55545651-57575053555375       0                 0                  0    0   \n",
       "55574848-48484957505771       0                 0                  0    0   \n",
       "\n",
       "                         pick point  store  \n",
       "Телефон_new                                 \n",
       "55515349-57485148505273           0      1  \n",
       "55515349-57485748544876           0      1  \n",
       "55535057-57525455575274           0      1  \n",
       "55545651-57575053555375           0      1  \n",
       "55574848-48484957505771           0      1  "
      ]
     },
     "execution_count": 17,
     "metadata": {},
     "output_type": "execute_result"
    }
   ],
   "source": [
    "shipping_stats.head(5) # total number of purchases made within the given shipment method"
   ]
  },
  {
   "cell_type": "markdown",
   "metadata": {},
   "source": [
    "<h4> Oversized / Undersized stats </h4>"
   ]
  },
  {
   "cell_type": "code",
   "execution_count": 18,
   "metadata": {},
   "outputs": [
    {
     "data": {
      "text/plain": [
       "['МГТ', 'КГТ']"
      ]
     },
     "execution_count": 18,
     "metadata": {},
     "output_type": "execute_result"
    }
   ],
   "source": [
    "list(set(data['ТипТовара']))"
   ]
  },
  {
   "cell_type": "code",
   "execution_count": 19,
   "metadata": {},
   "outputs": [],
   "source": [
    "item_type_stats = data[index_sort].groupby(['Телефон_new', 'НомерЗаказаНаСайте']).agg({\n",
    "    'ТипТовара': {\n",
    "        'Oversized': lambda x: pr(x, 'КГТ'),\n",
    "        'Compact': lambda x: pr(x, 'МГТ')\n",
    "    }\n",
    "})\n",
    "item_type_stats.columns = item_type_stats.columns.get_level_values(1)\n",
    "item_type_stats = item_type_stats.groupby(level=0).agg('sum')"
   ]
  },
  {
   "cell_type": "code",
   "execution_count": 20,
   "metadata": {},
   "outputs": [
    {
     "data": {
      "text/plain": [
       "(60060, 2)"
      ]
     },
     "execution_count": 20,
     "metadata": {},
     "output_type": "execute_result"
    }
   ],
   "source": [
    "item_type_stats.shape"
   ]
  },
  {
   "cell_type": "markdown",
   "metadata": {},
   "source": [
    "<h4> Payment methods </h4>"
   ]
  },
  {
   "cell_type": "code",
   "execution_count": 21,
   "metadata": {},
   "outputs": [],
   "source": [
    "payment_method_stats = data[index_sort].groupby(['Телефон_new', 'НомерЗаказаНаСайте']).agg({\n",
    "    'ФормаОплаты': {\n",
    "        'cash payment': lambda x: sr(x, 'Наличная'),\n",
    "        'cashless payment': lambda x: sr(x, 'Безналичная')\n",
    "    }\n",
    "})\n",
    "payment_method_stats.columns = payment_method_stats.columns.get_level_values(1)\n",
    "payment_method_stats = payment_method_stats.groupby(level=0).agg('sum')"
   ]
  },
  {
   "cell_type": "code",
   "execution_count": 22,
   "metadata": {},
   "outputs": [
    {
     "data": {
      "text/plain": [
       "(60060, 2)"
      ]
     },
     "execution_count": 22,
     "metadata": {},
     "output_type": "execute_result"
    }
   ],
   "source": [
    "payment_method_stats.shape"
   ]
  },
  {
   "cell_type": "code",
   "execution_count": 23,
   "metadata": {},
   "outputs": [
    {
     "data": {
      "text/html": [
       "<div>\n",
       "<style scoped>\n",
       "    .dataframe tbody tr th:only-of-type {\n",
       "        vertical-align: middle;\n",
       "    }\n",
       "\n",
       "    .dataframe tbody tr th {\n",
       "        vertical-align: top;\n",
       "    }\n",
       "\n",
       "    .dataframe thead th {\n",
       "        text-align: right;\n",
       "    }\n",
       "</style>\n",
       "<table border=\"1\" class=\"dataframe\">\n",
       "  <thead>\n",
       "    <tr style=\"text-align: right;\">\n",
       "      <th></th>\n",
       "      <th>cash payment</th>\n",
       "      <th>cashless payment</th>\n",
       "    </tr>\n",
       "    <tr>\n",
       "      <th>Телефон_new</th>\n",
       "      <th></th>\n",
       "      <th></th>\n",
       "    </tr>\n",
       "  </thead>\n",
       "  <tbody>\n",
       "    <tr>\n",
       "      <th>55515349-57485148505273</th>\n",
       "      <td>0</td>\n",
       "      <td>1</td>\n",
       "    </tr>\n",
       "    <tr>\n",
       "      <th>55515349-57485748544876</th>\n",
       "      <td>0</td>\n",
       "      <td>1</td>\n",
       "    </tr>\n",
       "    <tr>\n",
       "      <th>55535057-57525455575274</th>\n",
       "      <td>0</td>\n",
       "      <td>1</td>\n",
       "    </tr>\n",
       "    <tr>\n",
       "      <th>55545651-57575053555375</th>\n",
       "      <td>0</td>\n",
       "      <td>1</td>\n",
       "    </tr>\n",
       "    <tr>\n",
       "      <th>55574848-48484957505771</th>\n",
       "      <td>0</td>\n",
       "      <td>1</td>\n",
       "    </tr>\n",
       "  </tbody>\n",
       "</table>\n",
       "</div>"
      ],
      "text/plain": [
       "                         cash payment  cashless payment\n",
       "Телефон_new                                            \n",
       "55515349-57485148505273             0                 1\n",
       "55515349-57485748544876             0                 1\n",
       "55535057-57525455575274             0                 1\n",
       "55545651-57575053555375             0                 1\n",
       "55574848-48484957505771             0                 1"
      ]
     },
     "execution_count": 23,
     "metadata": {},
     "output_type": "execute_result"
    }
   ],
   "source": [
    "payment_method_stats.head(5) # total number of purchases made within the given payment method"
   ]
  },
  {
   "cell_type": "markdown",
   "metadata": {},
   "source": [
    "<h4> Region </h4>"
   ]
  },
  {
   "cell_type": "code",
   "execution_count": 24,
   "metadata": {},
   "outputs": [
    {
     "data": {
      "text/plain": [
       "189"
      ]
     },
     "execution_count": 24,
     "metadata": {},
     "output_type": "execute_result"
    }
   ],
   "source": [
    "len(list(set(data['Регион']))) # there are too many regions for the model to get any information"
   ]
  },
  {
   "cell_type": "markdown",
   "metadata": {},
   "source": [
    "<h4> Inside order aggregation </h4>"
   ]
  },
  {
   "cell_type": "code",
   "execution_count": 25,
   "metadata": {},
   "outputs": [],
   "source": [
    "# count only delivered non calceled items stats\n",
    "general_stats = data[index_sort].groupby(['Телефон_new', 'НомерЗаказаНаСайте']).agg(\n",
    "    # count the number of unique items in order\n",
    "    unique_items_count = ('Количество', 'count'),\n",
    "    # count overall number of items in order\n",
    "    all_items_count = ('Количество', 'sum'),\n",
    "    # average price of all items in order\n",
    "    avg_item_price = ('Цена', 'mean'),\n",
    "    # average price of unique items in order\n",
    "    avg_unique_items_price = ('СуммаСтроки', 'mean'),\n",
    "    # summed items price\n",
    "    all_items_price = ('Цена', 'sum'),\n",
    "    # charge for shipping\n",
    "    shipping_charge = ('СуммаДоставки', 'mean'),\n",
    "    # order profit\n",
    "    all_additional_charges = ('СуммаУслуг', 'mean'),\n",
    "    # order price\n",
    "    final_order_price = ('СуммаЗаказаНаСайте', 'mean'),\n",
    "    # order profit\n",
    "    total_margin = ('Маржа', 'sum'),\n",
    "    # average profit from item in order\n",
    "    avg_item_margin = ('Маржа', 'mean')\n",
    ")"
   ]
  },
  {
   "cell_type": "markdown",
   "metadata": {},
   "source": [
    "<h4> Phone number aggregation </h4>"
   ]
  },
  {
   "cell_type": "code",
   "execution_count": 26,
   "metadata": {},
   "outputs": [],
   "source": [
    "# work with only non-canceled items and delivered orders\n",
    "users_stats = general_stats.groupby(level = 0).agg(\n",
    "    # number of successful orders\n",
    "    successful_orders_count = ('all_items_count', 'count'),\n",
    "    # avg number of unique items in order\n",
    "    avg_unique_items_per_order = ('unique_items_count', 'mean'),\n",
    "    # total number of unique items ever purchased\n",
    "    all_unique_items_purchased = ('unique_items_count', 'sum'),\n",
    "    # avg number of items in order\n",
    "    avg_items_per_order = ('all_items_count', 'mean'),\n",
    "    # total number of items ever purchased\n",
    "    all_items_purchased = ('all_items_count', 'sum'),\n",
    "    \n",
    "    # avg item price\n",
    "    avg_item_price = ('avg_item_price', 'mean'),\n",
    "    # avg unique items price\n",
    "    avg_unique_items_price = ('avg_unique_items_price', 'mean'),\n",
    "    # all_items_price\n",
    "    all_items_price = ('all_items_price', 'sum'),\n",
    "    # avg items_price per order\n",
    "    avg_summed_cost_of_items_per_order = ('all_items_price', 'mean'),\n",
    "    \n",
    "    \n",
    "    # total shipping charge\n",
    "    total_shipping_charges = ('shipping_charge', 'sum'),\n",
    "    # avg shipping charge\n",
    "    avg_shipping_charges = ('shipping_charge', 'mean'),\n",
    "    # total service charges\n",
    "    total_service_charges = ('all_additional_charges', 'sum'),\n",
    "    # avg service charges\n",
    "    avg_service_charges = ('all_additional_charges', 'mean'),\n",
    "    \n",
    "    # total orders payment\n",
    "    total_payment = ('final_order_price', 'sum'),\n",
    "    # avg orders payment\n",
    "    avg_payment = ('final_order_price', 'mean'),\n",
    "    \n",
    "    \n",
    "    # total profit\n",
    "    total_profit = ('total_margin', 'sum'),\n",
    "    # average profit per order\n",
    "    avg_order_profit = ('total_margin', 'mean'),\n",
    "    # average profit per item\n",
    "    avg_item_profit = ('avg_item_margin', 'mean')\n",
    ")"
   ]
  },
  {
   "cell_type": "code",
   "execution_count": 27,
   "metadata": {},
   "outputs": [
    {
     "data": {
      "text/plain": [
       "(60060, 18)"
      ]
     },
     "execution_count": 27,
     "metadata": {},
     "output_type": "execute_result"
    }
   ],
   "source": [
    "users_stats.shape"
   ]
  },
  {
   "cell_type": "code",
   "execution_count": 28,
   "metadata": {},
   "outputs": [
    {
     "data": {
      "text/html": [
       "<div>\n",
       "<style scoped>\n",
       "    .dataframe tbody tr th:only-of-type {\n",
       "        vertical-align: middle;\n",
       "    }\n",
       "\n",
       "    .dataframe tbody tr th {\n",
       "        vertical-align: top;\n",
       "    }\n",
       "\n",
       "    .dataframe thead th {\n",
       "        text-align: right;\n",
       "    }\n",
       "</style>\n",
       "<table border=\"1\" class=\"dataframe\">\n",
       "  <thead>\n",
       "    <tr style=\"text-align: right;\">\n",
       "      <th></th>\n",
       "      <th>successful_orders_count</th>\n",
       "      <th>avg_unique_items_per_order</th>\n",
       "      <th>all_unique_items_purchased</th>\n",
       "      <th>avg_items_per_order</th>\n",
       "      <th>all_items_purchased</th>\n",
       "      <th>avg_item_price</th>\n",
       "      <th>avg_unique_items_price</th>\n",
       "      <th>all_items_price</th>\n",
       "      <th>avg_summed_cost_of_items_per_order</th>\n",
       "      <th>total_shipping_charges</th>\n",
       "      <th>avg_shipping_charges</th>\n",
       "      <th>total_service_charges</th>\n",
       "      <th>avg_service_charges</th>\n",
       "      <th>total_payment</th>\n",
       "      <th>avg_payment</th>\n",
       "      <th>total_profit</th>\n",
       "      <th>avg_order_profit</th>\n",
       "      <th>avg_item_profit</th>\n",
       "    </tr>\n",
       "    <tr>\n",
       "      <th>Телефон_new</th>\n",
       "      <th></th>\n",
       "      <th></th>\n",
       "      <th></th>\n",
       "      <th></th>\n",
       "      <th></th>\n",
       "      <th></th>\n",
       "      <th></th>\n",
       "      <th></th>\n",
       "      <th></th>\n",
       "      <th></th>\n",
       "      <th></th>\n",
       "      <th></th>\n",
       "      <th></th>\n",
       "      <th></th>\n",
       "      <th></th>\n",
       "      <th></th>\n",
       "      <th></th>\n",
       "      <th></th>\n",
       "    </tr>\n",
       "  </thead>\n",
       "  <tbody>\n",
       "    <tr>\n",
       "      <th>55515349-57485148505273</th>\n",
       "      <td>1</td>\n",
       "      <td>1.0</td>\n",
       "      <td>1</td>\n",
       "      <td>1.0</td>\n",
       "      <td>1</td>\n",
       "      <td>3040.000</td>\n",
       "      <td>3040.000</td>\n",
       "      <td>3040</td>\n",
       "      <td>3040.0</td>\n",
       "      <td>0</td>\n",
       "      <td>0.0</td>\n",
       "      <td>0</td>\n",
       "      <td>0.0</td>\n",
       "      <td>3040</td>\n",
       "      <td>3040.0</td>\n",
       "      <td>1864</td>\n",
       "      <td>1864.0</td>\n",
       "      <td>1864.000000</td>\n",
       "    </tr>\n",
       "    <tr>\n",
       "      <th>55515349-57485748544876</th>\n",
       "      <td>1</td>\n",
       "      <td>1.0</td>\n",
       "      <td>1</td>\n",
       "      <td>1.0</td>\n",
       "      <td>1</td>\n",
       "      <td>4799.000</td>\n",
       "      <td>4799.000</td>\n",
       "      <td>4799</td>\n",
       "      <td>4799.0</td>\n",
       "      <td>0</td>\n",
       "      <td>0.0</td>\n",
       "      <td>0</td>\n",
       "      <td>0.0</td>\n",
       "      <td>4799</td>\n",
       "      <td>4799.0</td>\n",
       "      <td>960</td>\n",
       "      <td>960.0</td>\n",
       "      <td>960.000000</td>\n",
       "    </tr>\n",
       "    <tr>\n",
       "      <th>55535057-57525455575274</th>\n",
       "      <td>1</td>\n",
       "      <td>3.0</td>\n",
       "      <td>3</td>\n",
       "      <td>3.0</td>\n",
       "      <td>3</td>\n",
       "      <td>329.000</td>\n",
       "      <td>329.000</td>\n",
       "      <td>987</td>\n",
       "      <td>987.0</td>\n",
       "      <td>0</td>\n",
       "      <td>0.0</td>\n",
       "      <td>0</td>\n",
       "      <td>0.0</td>\n",
       "      <td>987</td>\n",
       "      <td>987.0</td>\n",
       "      <td>451</td>\n",
       "      <td>451.0</td>\n",
       "      <td>150.333333</td>\n",
       "    </tr>\n",
       "    <tr>\n",
       "      <th>55545651-57575053555375</th>\n",
       "      <td>1</td>\n",
       "      <td>1.0</td>\n",
       "      <td>1</td>\n",
       "      <td>1.0</td>\n",
       "      <td>1</td>\n",
       "      <td>1050.000</td>\n",
       "      <td>1050.000</td>\n",
       "      <td>1050</td>\n",
       "      <td>1050.0</td>\n",
       "      <td>49</td>\n",
       "      <td>49.0</td>\n",
       "      <td>49</td>\n",
       "      <td>49.0</td>\n",
       "      <td>1099</td>\n",
       "      <td>1099.0</td>\n",
       "      <td>470</td>\n",
       "      <td>470.0</td>\n",
       "      <td>470.000000</td>\n",
       "    </tr>\n",
       "    <tr>\n",
       "      <th>55574848-48484957505771</th>\n",
       "      <td>1</td>\n",
       "      <td>8.0</td>\n",
       "      <td>8</td>\n",
       "      <td>8.0</td>\n",
       "      <td>8</td>\n",
       "      <td>427.375</td>\n",
       "      <td>427.375</td>\n",
       "      <td>3419</td>\n",
       "      <td>3419.0</td>\n",
       "      <td>99</td>\n",
       "      <td>99.0</td>\n",
       "      <td>99</td>\n",
       "      <td>99.0</td>\n",
       "      <td>3518</td>\n",
       "      <td>3518.0</td>\n",
       "      <td>659</td>\n",
       "      <td>659.0</td>\n",
       "      <td>82.375000</td>\n",
       "    </tr>\n",
       "  </tbody>\n",
       "</table>\n",
       "</div>"
      ],
      "text/plain": [
       "                         successful_orders_count  avg_unique_items_per_order  \\\n",
       "Телефон_new                                                                    \n",
       "55515349-57485148505273                        1                         1.0   \n",
       "55515349-57485748544876                        1                         1.0   \n",
       "55535057-57525455575274                        1                         3.0   \n",
       "55545651-57575053555375                        1                         1.0   \n",
       "55574848-48484957505771                        1                         8.0   \n",
       "\n",
       "                         all_unique_items_purchased  avg_items_per_order  \\\n",
       "Телефон_new                                                                \n",
       "55515349-57485148505273                           1                  1.0   \n",
       "55515349-57485748544876                           1                  1.0   \n",
       "55535057-57525455575274                           3                  3.0   \n",
       "55545651-57575053555375                           1                  1.0   \n",
       "55574848-48484957505771                           8                  8.0   \n",
       "\n",
       "                         all_items_purchased  avg_item_price  \\\n",
       "Телефон_new                                                    \n",
       "55515349-57485148505273                    1        3040.000   \n",
       "55515349-57485748544876                    1        4799.000   \n",
       "55535057-57525455575274                    3         329.000   \n",
       "55545651-57575053555375                    1        1050.000   \n",
       "55574848-48484957505771                    8         427.375   \n",
       "\n",
       "                         avg_unique_items_price  all_items_price  \\\n",
       "Телефон_new                                                        \n",
       "55515349-57485148505273                3040.000             3040   \n",
       "55515349-57485748544876                4799.000             4799   \n",
       "55535057-57525455575274                 329.000              987   \n",
       "55545651-57575053555375                1050.000             1050   \n",
       "55574848-48484957505771                 427.375             3419   \n",
       "\n",
       "                         avg_summed_cost_of_items_per_order  \\\n",
       "Телефон_new                                                   \n",
       "55515349-57485148505273                              3040.0   \n",
       "55515349-57485748544876                              4799.0   \n",
       "55535057-57525455575274                               987.0   \n",
       "55545651-57575053555375                              1050.0   \n",
       "55574848-48484957505771                              3419.0   \n",
       "\n",
       "                         total_shipping_charges  avg_shipping_charges  \\\n",
       "Телефон_new                                                             \n",
       "55515349-57485148505273                       0                   0.0   \n",
       "55515349-57485748544876                       0                   0.0   \n",
       "55535057-57525455575274                       0                   0.0   \n",
       "55545651-57575053555375                      49                  49.0   \n",
       "55574848-48484957505771                      99                  99.0   \n",
       "\n",
       "                         total_service_charges  avg_service_charges  \\\n",
       "Телефон_new                                                           \n",
       "55515349-57485148505273                      0                  0.0   \n",
       "55515349-57485748544876                      0                  0.0   \n",
       "55535057-57525455575274                      0                  0.0   \n",
       "55545651-57575053555375                     49                 49.0   \n",
       "55574848-48484957505771                     99                 99.0   \n",
       "\n",
       "                         total_payment  avg_payment  total_profit  \\\n",
       "Телефон_new                                                         \n",
       "55515349-57485148505273           3040       3040.0          1864   \n",
       "55515349-57485748544876           4799       4799.0           960   \n",
       "55535057-57525455575274            987        987.0           451   \n",
       "55545651-57575053555375           1099       1099.0           470   \n",
       "55574848-48484957505771           3518       3518.0           659   \n",
       "\n",
       "                         avg_order_profit  avg_item_profit  \n",
       "Телефон_new                                                 \n",
       "55515349-57485148505273            1864.0      1864.000000  \n",
       "55515349-57485748544876             960.0       960.000000  \n",
       "55535057-57525455575274             451.0       150.333333  \n",
       "55545651-57575053555375             470.0       470.000000  \n",
       "55574848-48484957505771             659.0        82.375000  "
      ]
     },
     "execution_count": 28,
     "metadata": {},
     "output_type": "execute_result"
    }
   ],
   "source": [
    "users_stats.head(5)"
   ]
  },
  {
   "cell_type": "markdown",
   "metadata": {},
   "source": [
    "<h4> Cancellations stats </h4>"
   ]
  },
  {
   "cell_type": "code",
   "execution_count": 29,
   "metadata": {},
   "outputs": [],
   "source": [
    "# number of orders that are canceled\n",
    "cancellations_stats = data.groupby(['Телефон_new', 'НомерЗаказаНаСайте']).agg({\n",
    "    'Отменено': {\n",
    "        'number_canceled' : lambda x: pr(x,'Да'),\n",
    "        'avg_number_canceled': lambda x: (np.array(x) == 'Да').mean(),\n",
    "    },\n",
    "    'Статус': {\n",
    "        'is_delivered': lambda x: int((np.array(x) == 'Доставлен').max()) # at least one item was delivered\n",
    "    }\n",
    "})\n",
    "cancellations_stats.columns = cancellations_stats.columns.get_level_values(1)\n",
    "cancellations_stats = cancellations_stats.groupby(level=0).agg(\n",
    "    # total number of canceled items\n",
    "    number_canceled = ('number_canceled', 'sum'),\n",
    "    # average number of items canceled in order\n",
    "    avg_number_canceled = ('avg_number_canceled', 'mean'),\n",
    "    # total orders delivered\n",
    "    total_delivered = ('is_delivered', 'sum'),\n",
    "    # average orders delivered out of all orders made\n",
    "    avg_delivered = ('is_delivered', 'mean')\n",
    ")"
   ]
  },
  {
   "cell_type": "code",
   "execution_count": 30,
   "metadata": {},
   "outputs": [
    {
     "data": {
      "text/plain": [
       "(60061, 4)"
      ]
     },
     "execution_count": 30,
     "metadata": {},
     "output_type": "execute_result"
    }
   ],
   "source": [
    "cancellations_stats.shape"
   ]
  },
  {
   "cell_type": "markdown",
   "metadata": {},
   "source": [
    "<h3> Put it all together </h3>"
   ]
  },
  {
   "cell_type": "code",
   "execution_count": 31,
   "metadata": {},
   "outputs": [],
   "source": [
    "# valid phone numbers\n",
    "valid_phones = list(set(data[index_sort]['Телефон_new']))\n",
    "cancellations_stats_valid = cancellations_stats.loc[valid_phones]"
   ]
  },
  {
   "cell_type": "code",
   "execution_count": 32,
   "metadata": {},
   "outputs": [],
   "source": [
    "# get shares instead of counters\n",
    "items_groups_share = items_groups.div(users_stats['all_unique_items_purchased'].values, axis='rows')\n",
    "shipping_stats_share = shipping_stats.div(users_stats['successful_orders_count'].values, axis='rows')\n",
    "item_type_stats_share =  item_type_stats.div(users_stats['all_unique_items_purchased'].values, axis='rows')\n",
    "payment_method_stats_share = payment_method_stats.div(users_stats['successful_orders_count'].values, axis='rows')"
   ]
  },
  {
   "cell_type": "code",
   "execution_count": 33,
   "metadata": {},
   "outputs": [],
   "source": [
    "# check shape\n",
    "assert users_stats.shape[0] == items_groups_share.shape[0] == shipping_stats_share.shape[0] ==\\\n",
    "item_type_stats_share.shape[0] == payment_method_stats_share.shape[0] == cancellations_stats_valid.shape[0]"
   ]
  },
  {
   "cell_type": "code",
   "execution_count": 34,
   "metadata": {},
   "outputs": [],
   "source": [
    "data_mart = users_stats.join(items_groups_share)\n",
    "data_mart = data_mart.join(shipping_stats_share)\n",
    "data_mart = data_mart.join(item_type_stats_share)\n",
    "data_mart = data_mart.join(payment_method_stats_share)\n",
    "data_mart = data_mart.join(cancellations_stats_valid)"
   ]
  },
  {
   "cell_type": "code",
   "execution_count": 35,
   "metadata": {},
   "outputs": [],
   "source": [
    "data_mart.index = data_mart.index.rename('phone')\n",
    "data_mart = data_mart.iloc[1:]"
   ]
  },
  {
   "cell_type": "code",
   "execution_count": 40,
   "metadata": {},
   "outputs": [],
   "source": [
    "data_mart.to_csv('data_mart.csv', sep=',', encoding='cp1251')"
   ]
  },
  {
   "cell_type": "code",
   "execution_count": 39,
   "metadata": {
    "scrolled": false
   },
   "outputs": [],
   "source": [
    "data_mart.to_excel('data_mart_excel.xlsx', sheet_name='data_mart')"
   ]
  },
  {
   "cell_type": "code",
   "execution_count": null,
   "metadata": {},
   "outputs": [],
   "source": []
  }
 ],
 "metadata": {
  "kernelspec": {
   "display_name": "Python 3",
   "language": "python",
   "name": "python3"
  },
  "language_info": {
   "codemirror_mode": {
    "name": "ipython",
    "version": 3
   },
   "file_extension": ".py",
   "mimetype": "text/x-python",
   "name": "python",
   "nbconvert_exporter": "python",
   "pygments_lexer": "ipython3",
   "version": "3.6.5"
  }
 },
 "nbformat": 4,
 "nbformat_minor": 2
}
